{
 "cells": [
  {
   "cell_type": "markdown",
   "id": "3fea624e",
   "metadata": {},
   "source": [
    "**Queremos padronizar os códigos dos produtos abaixo**\n",
    "\n",
    "Na base de dados da empresa, todos os produtos são encontrados com letras maiúsculoas e 3 números. Sem nenhum espaço após o código do produto\n"
   ]
  },
  {
   "cell_type": "code",
   "execution_count": 1,
   "id": "2c25a21d",
   "metadata": {},
   "outputs": [],
   "source": [
    "produtos = ['ABC123', 'adb012', 'ABS111', 'abD222']"
   ]
  },
  {
   "cell_type": "code",
   "execution_count": 5,
   "id": "edd29cea",
   "metadata": {},
   "outputs": [],
   "source": [
    "texto = 'abd013'"
   ]
  },
  {
   "cell_type": "code",
   "execution_count": 6,
   "id": "050c27e7",
   "metadata": {},
   "outputs": [],
   "source": [
    "def trata_texto(texto):\n",
    "    texto = texto.upper() #maiusculo \n",
    "    texto = texto.strip() #retira os espaços em branco\n",
    "    return texto"
   ]
  },
  {
   "cell_type": "code",
   "execution_count": 10,
   "id": "a78a3d71",
   "metadata": {},
   "outputs": [
    {
     "name": "stdout",
     "output_type": "stream",
     "text": [
      "ABD011\n"
     ]
    }
   ],
   "source": [
    "texto = 'abd011'\n",
    "texto = trata_texto(texto)\n",
    "print(texto)"
   ]
  },
  {
   "cell_type": "code",
   "execution_count": 11,
   "id": "0506051b",
   "metadata": {},
   "outputs": [],
   "source": [
    "for i, produto in enumerate(produtos):\n",
    "    produtos[i] = trata_texto(produto)"
   ]
  },
  {
   "cell_type": "code",
   "execution_count": 12,
   "id": "d9b29de6",
   "metadata": {},
   "outputs": [
    {
     "name": "stdout",
     "output_type": "stream",
     "text": [
      "['ABC123', 'ADB012', 'ABS111', 'ABD222']\n"
     ]
    }
   ],
   "source": [
    "print(produtos)"
   ]
  },
  {
   "cell_type": "code",
   "execution_count": null,
   "id": "c4c93867",
   "metadata": {},
   "outputs": [],
   "source": []
  }
 ],
 "metadata": {
  "kernelspec": {
   "display_name": "Python 3 (ipykernel)",
   "language": "python",
   "name": "python3"
  },
  "language_info": {
   "codemirror_mode": {
    "name": "ipython",
    "version": 3
   },
   "file_extension": ".py",
   "mimetype": "text/x-python",
   "name": "python",
   "nbconvert_exporter": "python",
   "pygments_lexer": "ipython3",
   "version": "3.10.2"
  }
 },
 "nbformat": 4,
 "nbformat_minor": 5
}
