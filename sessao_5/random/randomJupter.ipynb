{
 "cells": [
  {
   "cell_type": "code",
   "execution_count": null,
   "id": "9af750f7",
   "metadata": {},
   "outputs": [],
   "source": [
    "Importando "
   ]
  },
  {
   "cell_type": "code",
   "execution_count": 10,
   "id": "f46110c4",
   "metadata": {},
   "outputs": [],
   "source": [
    "import random\n",
    "import string"
   ]
  },
  {
   "cell_type": "code",
   "execution_count": 14,
   "id": "cc9c099e",
   "metadata": {},
   "outputs": [
    {
     "name": "stdout",
     "output_type": "stream",
     "text": [
      "abcdefghijklmnopqrstuvwxyzABCDEFGHIJKLMNOPQRSTUVWXYZ0123456789!@#$%¨&*_-\n",
      "m%xlTW$PqEuJ#P2_XX1Q\n"
     ]
    }
   ],
   "source": [
    "#gera um numero inteiro entre A e B\n",
    "# inteiro = random.randint(10,20)\n",
    "\n",
    "#gera um numero aleatorio usando a funcão range\n",
    "inteiro = random.randrange(900, 1000, 10)\n",
    "#gera um numero flutuante entre A  e B\n",
    "#flutuante = random.uniform(10,20)\n",
    "\n",
    "\n",
    "lista = ['Luiz', 'Diego', 'Mario', 'Danilo', 'jose']\n",
    "sorteio = random.choice(lista)\n",
    "sorteio2 = random.choices(lista, k=2) #pode repetir\n",
    "sorteio3 = random.sample(lista, 2) #não repete\n",
    "random.shuffle(lista) #embaralha a lista\n",
    "\n",
    "\"\"\"\n",
    "for i in range(1000):\n",
    "    sorteio = random.sample(lista, 2)\n",
    "    print(sorteio)\n",
    "\"\"\"\n",
    "#gera um numero flutuante entre 0 e 1\n",
    "flutuante = random.random()\n",
    "\n",
    "#gera senha aleatoria\n",
    "\n",
    "letras = string.ascii_letters\n",
    "digitos = string.digits\n",
    "caracteres = \"!@#$%¨&*_-\"\n",
    "geral = letras + digitos + caracteres\n",
    "print(geral)\n",
    "\n",
    "senha = ''.join(random.choices(geral, k=20))\n",
    "print(senha)"
   ]
  },
  {
   "cell_type": "code",
   "execution_count": null,
   "id": "fb577d60",
   "metadata": {},
   "outputs": [],
   "source": []
  },
  {
   "cell_type": "code",
   "execution_count": null,
   "id": "f776df7c",
   "metadata": {},
   "outputs": [],
   "source": []
  },
  {
   "cell_type": "code",
   "execution_count": null,
   "id": "f8285922",
   "metadata": {},
   "outputs": [],
   "source": []
  },
  {
   "cell_type": "code",
   "execution_count": null,
   "id": "cbc3a2bf",
   "metadata": {},
   "outputs": [],
   "source": []
  },
  {
   "cell_type": "code",
   "execution_count": null,
   "id": "67f0af66",
   "metadata": {},
   "outputs": [],
   "source": []
  },
  {
   "cell_type": "code",
   "execution_count": null,
   "id": "291a636c",
   "metadata": {},
   "outputs": [],
   "source": []
  }
 ],
 "metadata": {
  "kernelspec": {
   "display_name": "Python 3 (ipykernel)",
   "language": "python",
   "name": "python3"
  },
  "language_info": {
   "codemirror_mode": {
    "name": "ipython",
    "version": 3
   },
   "file_extension": ".py",
   "mimetype": "text/x-python",
   "name": "python",
   "nbconvert_exporter": "python",
   "pygments_lexer": "ipython3",
   "version": "3.9.7"
  }
 },
 "nbformat": 4,
 "nbformat_minor": 5
}
